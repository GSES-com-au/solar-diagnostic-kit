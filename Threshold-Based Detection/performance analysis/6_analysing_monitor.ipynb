{
 "cells": [
  {
   "attachments": {},
   "cell_type": "markdown",
   "metadata": {},
   "source": [
    "# 1. Libraries Import"
   ]
  },
  {
   "cell_type": "code",
   "execution_count": null,
   "metadata": {},
   "outputs": [],
   "source": [
    "# ========================================================\n",
    "# = Libraries import\n",
    "# ========================================================\n",
    "\n",
    "from collections import defaultdict\n",
    "import matplotlib.pyplot as plt\n",
    "import pandas as pd\n",
    "import numpy as np\n",
    "import boto3\n",
    "import warnings\n",
    "warnings.filterwarnings('ignore')\n",
    "import seaborn as sns\n",
    "import plotly.express as px\n",
    "from timezonefinder import TimezoneFinder\n",
    "import pytz\n",
    "import datetime\n",
    "import math"
   ]
  },
  {
   "attachments": {},
   "cell_type": "markdown",
   "metadata": {},
   "source": [
    "# 2. AWS credentials"
   ]
  },
  {
   "cell_type": "code",
   "execution_count": null,
   "metadata": {},
   "outputs": [],
   "source": [
    "# ========================================================\n",
    "# = AWS Credentials\n",
    "# ========================================================\n",
    "\n",
    "PROD_AWS_PROFILE = \"gsesami-prod\"\n",
    "AWS_REGION = \"us-west-2\"\n",
    "\n",
    "prod_session = boto3.session.Session(profile_name=PROD_AWS_PROFILE)\n",
    "\n",
    "prod_client = prod_session.client(\n",
    "    \"timestream-query\", region_name=AWS_REGION)"
   ]
  },
  {
   "attachments": {},
   "cell_type": "markdown",
   "metadata": {},
   "source": [
    "# 3. Querying TimeStream"
   ]
  },
  {
   "attachments": {},
   "cell_type": "markdown",
   "metadata": {},
   "source": [
    "## 3.1. Monitor ID, Site ID, and time period"
   ]
  },
  {
   "cell_type": "code",
   "execution_count": null,
   "metadata": {},
   "outputs": [],
   "source": [
    "# Monitor ID\n",
    "MID = '23779471'"
   ]
  },
  {
   "cell_type": "code",
   "execution_count": null,
   "metadata": {},
   "outputs": [],
   "source": [
    "sites_list = pd.read_csv('./input_data/Site_List.csv')\n",
    "monitors_list = pd.read_csv('./input_data/monitors/Monitors_List.csv')\n",
    "# monitors_faulty = pd.read_csv('./faulty_sites/window_size_7days/monitors_faulty_sites.csv')"
   ]
  },
  {
   "cell_type": "code",
   "execution_count": null,
   "metadata": {},
   "outputs": [],
   "source": [
    "# Get Side ID:\n",
    "site_id = monitors_list.loc[monitors_list['source'] == str(\"MNTR|\" + MID), 'siteId'].iloc[0]\n",
    "\n",
    "# When working with MONITORS, we determine a time period:\n",
    "time_start = '2022-09-01'\n",
    "time_end = '2022-10-01'\n",
    "\n",
    "# When working with SITES, we determine a date period:\n",
    "date_start = '2022-01-01'\n",
    "date_end = '2023-02-01'\n",
    "\n",
    "# Checking timezone\n",
    "timezone_value = 'Australia/Sydney'\n",
    "timezone_value = sites_list[sites_list['source'] == site_id].iloc[0]['timezone']\n",
    "\n",
    "## THIS IS PART OF YANS CODE: TO DOUBLE CHECK:\n",
    "# time_endtz = datetime.datetime.fromisoformat(time_end_short)\n",
    "time_starttz = pytz.timezone('UTC').localize(datetime.datetime.strptime(time_start, '%Y-%m-%d'))\n",
    "time_endtz = pytz.timezone('UTC').localize(datetime.datetime.strptime(time_end, '%Y-%m-%d'))"
   ]
  },
  {
   "cell_type": "code",
   "execution_count": null,
   "metadata": {},
   "outputs": [],
   "source": [
    "print(\"Site ID is : \", site_id)"
   ]
  },
  {
   "attachments": {},
   "cell_type": "markdown",
   "metadata": {},
   "source": [
    "# 3.2 Helper functions to read metrics"
   ]
  },
  {
   "cell_type": "code",
   "execution_count": null,
   "metadata": {},
   "outputs": [],
   "source": [
    "def read_metric(time_start, time_end, measure_name, MID):\n",
    "    timeid = []\n",
    "    data_values = []\n",
    "    ##----------------- read the Performance  --------------##\n",
    "    query = \"\"\"SELECT time, measure_value::bigint\n",
    "                    FROM \"GSESTimeseries\".\"GSESTimeseriesTable\"\n",
    "                    WHERE measure_name = '\"\"\" + measure_name + \"\"\"'\n",
    "                    AND MID = '\"\"\" + MID + \"\"\"'\n",
    "                    AND time BETWEEN '\"\"\" + time_start + \"\"\"'\n",
    "                    AND '\"\"\" + time_end + \"\"\"' \"\"\"\n",
    "\n",
    "    client = prod_client\n",
    "    paginator = client.get_paginator(\"query\")\n",
    "    page_iterator = paginator.paginate(QueryString=query,)\n",
    "    i = 1\n",
    "    for page in page_iterator:\n",
    "        # print(page)\n",
    "        try:\n",
    "            timeid_page = [f[0]['ScalarValue'] for f in pd.DataFrame(page[\"Rows\"])['Data']]\n",
    "            data_values_page = [f[1]['ScalarValue'] for f in pd.DataFrame(page[\"Rows\"])['Data']]\n",
    "            timeid = timeid + timeid_page\n",
    "            data_values = data_values + data_values_page\n",
    "        except KeyError:\n",
    "            print('Page {%d} has no data available:'%i)\n",
    "        i = i+1\n",
    "    return timeid, data_values"
   ]
  },
  {
   "cell_type": "code",
   "execution_count": null,
   "metadata": {},
   "outputs": [],
   "source": [
    "\n",
    "def build_dataframe(timeid, measure_name, data_values):\n",
    "    # ============== Check if there is data available for the pv system =============\n",
    "    if len(timeid)!=0:\n",
    "        timeid = pd.to_datetime(timeid)\n",
    "        if timeid.tzinfo is None:\n",
    "            print('this is not tz-aware')\n",
    "            if timezone_value is not None:\n",
    "                timeid = timeid.tz_localize('UTC').tz_convert(timezone_value)\n",
    "                # timeid = timeid.tz_localize(timezone_list[i])\n",
    "            else:\n",
    "                print('no timezone in the table')\n",
    "                timeid = timeid.tz_localize('UTC').tz_convert('Australia/Sydney')\n",
    "                # timeid = timeid.tz_localize('Australia/Sydney')\n",
    "        else:\n",
    "            print('this is tz-aware')\n",
    "        \n",
    "        timesort = timeid.sort_values()\n",
    "        data = pd.DataFrame(data={'time':timeid, measure_name: data_values})\n",
    "        data.sort_values('time', inplace=True)\n",
    "        data.set_index('time', inplace=True)\n",
    "        data[measure_name] = data[measure_name].astype(float)\n",
    "    else:\n",
    "        data = pd.DataFrame(data_values, index=timeid, columns=[measure_name])\n",
    "    \n",
    "    return data\n"
   ]
  },
  {
   "cell_type": "code",
   "execution_count": null,
   "metadata": {},
   "outputs": [],
   "source": [
    "def change_tz(timeid):\n",
    "    # print('rawtimeid:', timeid)\n",
    "    tzinfo_str = timeid[0].tzinfo\n",
    "    hour_offset = tzinfo_str.utcoffset(datetime.datetime(2022,1,1))\n",
    "    hms = str(hour_offset).split(':')\n",
    "    time_modified = timeid + datetime.timedelta(hours=int(hms[0]), minutes=int(hms[1]), seconds=int(hms[2]))\n",
    "    time_utc = time_modified.dt.tz_convert('UTC')\n",
    "    # print('modified:', time_utc)\n",
    "    return time_utc"
   ]
  },
  {
   "attachments": {},
   "cell_type": "markdown",
   "metadata": {},
   "source": [
    "## 3.3. Setting up a 5minutes datetime dataframe"
   ]
  },
  {
   "cell_type": "code",
   "execution_count": null,
   "metadata": {},
   "outputs": [],
   "source": [
    "time_index5min = pd.date_range(start=time_starttz, end=time_endtz, freq='5min').tz_convert('UTC')\n",
    "df_5min = pd.DataFrame(index=np.arange(len(time_index5min)))\n",
    "df_5min['time'] = time_index5min"
   ]
  },
  {
   "attachments": {},
   "cell_type": "markdown",
   "metadata": {},
   "source": [
    "# 4. AC Phase"
   ]
  },
  {
   "attachments": {},
   "cell_type": "markdown",
   "metadata": {},
   "source": [
    "## 4.1. Gen.W"
   ]
  },
  {
   "cell_type": "code",
   "execution_count": null,
   "metadata": {},
   "outputs": [],
   "source": [
    "# ========================================================\n",
    "# = Reading P(AC) total from AWS TimeStream\n",
    "# = Metric is Gen.W \n",
    "# ========================================================\n",
    "\n",
    "measure_name = 'Gen.W'\n",
    "timeid, data_values = read_metric(time_start, time_end, measure_name, MID)\n",
    "df_genW = build_dataframe(timeid, measure_name, data_values)"
   ]
  },
  {
   "cell_type": "code",
   "execution_count": null,
   "metadata": {},
   "outputs": [],
   "source": [
    "df_genW.index = df_genW.index.tz_convert('UTC')\n",
    "df_5min['time'] = df_5min['time'].dt.tz_convert('UTC')"
   ]
  },
  {
   "cell_type": "code",
   "execution_count": null,
   "metadata": {},
   "outputs": [],
   "source": [
    "df_genW = pd.merge_asof(df_5min, df_genW, on=\"time\", tolerance=pd.Timedelta(\"1 minute\"))\n",
    "df_genW"
   ]
  },
  {
   "cell_type": "code",
   "execution_count": null,
   "metadata": {},
   "outputs": [],
   "source": [
    "fig = px.line(df_genW, x='time',  y=measure_name, title='P(AC)')\n",
    "fig.show()"
   ]
  },
  {
   "attachments": {},
   "cell_type": "markdown",
   "metadata": {},
   "source": [
    "## 4.2. Vac per phase"
   ]
  },
  {
   "cell_type": "code",
   "execution_count": null,
   "metadata": {},
   "outputs": [],
   "source": [
    "# ========================================================\n",
    "# = Reading V(AC) average from AWS TimeStream\n",
    "# = Metric is Inv.AC.U.V\n",
    "# ========================================================\n",
    "\n",
    "measure_name = 'Inv.AC.U.V'\n",
    "timeid, data_values = read_metric(time_start, time_end, measure_name, MID)\n",
    "df_ac_voltage_avg = build_dataframe(timeid, measure_name, data_values)"
   ]
  },
  {
   "cell_type": "code",
   "execution_count": null,
   "metadata": {},
   "outputs": [],
   "source": [
    "# ========================================================\n",
    "# = Reading V(AC) per phase from AWS TimeStream\n",
    "# = Metric is Inv.AC.U.V\n",
    "# = Where X is a number between (1 - n)\n",
    "# ========================================================\n",
    "'''\n",
    "phase=3\n",
    "measure_name = 'Inv.AC.U.{' + str(phase) + '}V'\n",
    "timeid, data_values = read_metric(time_start, time_end, measure_name, MID)\n",
    "df_ac_voltage_avg = build_dataframe(timeid, measure_name, data_values)\n",
    "'''"
   ]
  },
  {
   "cell_type": "code",
   "execution_count": null,
   "metadata": {},
   "outputs": [],
   "source": [
    "df_ac_voltage_avg.index = df_ac_voltage_avg.index.tz_convert('UTC')\n",
    "df_5min['time'] = df_5min['time'].dt.tz_convert('UTC')"
   ]
  },
  {
   "cell_type": "code",
   "execution_count": null,
   "metadata": {},
   "outputs": [],
   "source": [
    "df_ac_voltage_avg = pd.merge_asof(df_5min, df_ac_voltage_avg, on=\"time\", tolerance=pd.Timedelta(\"1 minute\"))\n",
    "df_ac_voltage_avg"
   ]
  },
  {
   "cell_type": "code",
   "execution_count": null,
   "metadata": {},
   "outputs": [],
   "source": [
    "fig = px.line(df_ac_voltage_avg, y=measure_name, title=measure_name)\n",
    "fig.show()"
   ]
  },
  {
   "attachments": {},
   "cell_type": "markdown",
   "metadata": {},
   "source": [
    "## 4.3. I(AC) per phase"
   ]
  },
  {
   "cell_type": "code",
   "execution_count": null,
   "metadata": {},
   "outputs": [],
   "source": [
    "# ========================================================\n",
    "# = Reading V(AC) per phase from AWS TimeStream\n",
    "# = Metric is Inv.AC.I.Ph1.V \n",
    "# = Where X is a number between (1 - n)\n",
    "# ========================================================\n",
    "\n",
    "X=1\n",
    "measure_name = 'Inv.AC.I.Ph{' + str(X) + '}.V'\n",
    "timeid, data_values = read_metric(time_start, time_end, measure_name, MID)\n",
    "df_ac_current = build_dataframe(timeid, measure_name, data_values)"
   ]
  },
  {
   "cell_type": "code",
   "execution_count": null,
   "metadata": {},
   "outputs": [],
   "source": [
    "df_ac_current.index = df_ac_current.index.tz_convert('UTC')\n",
    "df_5min['time'] = df_5min['time'].dt.tz_convert('UTC')"
   ]
  },
  {
   "cell_type": "code",
   "execution_count": null,
   "metadata": {},
   "outputs": [],
   "source": [
    "df_ac_current = pd.merge_asof(df_5min, df_ac_current, on=\"time\", tolerance=pd.Timedelta(\"1 minute\"))\n",
    "df_ac_current"
   ]
  },
  {
   "cell_type": "code",
   "execution_count": null,
   "metadata": {},
   "outputs": [],
   "source": [
    "fig = px.line(df_ac_current, y=measure_name, title=measure_name)\n",
    "fig.show()"
   ]
  },
  {
   "attachments": {},
   "cell_type": "markdown",
   "metadata": {},
   "source": [
    "## 4.4. P(AC) per phase"
   ]
  },
  {
   "cell_type": "code",
   "execution_count": null,
   "metadata": {},
   "outputs": [],
   "source": [
    "# ========================================================\n",
    "# = Reading V(AC) per phase from AWS TimeStream\n",
    "# = Metric is Inv.AC.P.Ph1.V \n",
    "# = Where X is a number between (1 - n)\n",
    "# ========================================================\n",
    "\n",
    "X=1\n",
    "measure_name = 'Inv.AC.P.Ph{' + str(X) + '}.V'\n",
    "timeid, data_values = read_metric(time_start, time_end, measure_name, MID)\n",
    "df_ac_power = build_dataframe(timeid, measure_name, data_values)"
   ]
  },
  {
   "cell_type": "code",
   "execution_count": null,
   "metadata": {},
   "outputs": [],
   "source": [
    "measure_name = 'Inv.AC.P.Ph.V'\n",
    "timeid, data_values = read_metric(time_start, time_end, measure_name, MID)\n",
    "df_ac_power = build_dataframe(timeid, measure_name, data_values)"
   ]
  },
  {
   "cell_type": "code",
   "execution_count": null,
   "metadata": {},
   "outputs": [],
   "source": [
    "df_ac_power.index = df_ac_power.index.tz_convert('UTC')\n",
    "df_5min['time'] = df_5min['time'].dt.tz_convert('UTC')"
   ]
  },
  {
   "cell_type": "code",
   "execution_count": null,
   "metadata": {},
   "outputs": [],
   "source": [
    "df_ac_power = pd.merge_asof(df_5min, df_ac_power, on=\"time\", tolerance=pd.Timedelta(\"1 minute\"))\n",
    "df_ac_power"
   ]
  },
  {
   "cell_type": "code",
   "execution_count": null,
   "metadata": {},
   "outputs": [],
   "source": [
    "fig = px.line(df_ac_power, y=measure_name, title=measure_name)\n",
    "fig.show()"
   ]
  },
  {
   "attachments": {},
   "cell_type": "markdown",
   "metadata": {},
   "source": [
    "# 5. DC Phase"
   ]
  },
  {
   "attachments": {},
   "cell_type": "markdown",
   "metadata": {},
   "source": [
    "## 5.1. Voltage (Inv.DC.U.V)"
   ]
  },
  {
   "cell_type": "code",
   "execution_count": null,
   "metadata": {},
   "outputs": [],
   "source": [
    "# ========================================================\n",
    "# = Reading V(DC) average from AWS TimeStream\n",
    "# = Metric is Inv.DC.U.V\n",
    "# ========================================================\n",
    "\n",
    "measure_name = 'Inv.DC.U.V'\n",
    "timeid, data_values = read_metric(time_start, time_end, measure_name, MID)\n",
    "df_dc_voltage = build_dataframe(timeid, measure_name, data_values)"
   ]
  },
  {
   "cell_type": "code",
   "execution_count": null,
   "metadata": {},
   "outputs": [],
   "source": [
    "df_dc_voltage.index = df_dc_voltage.index.tz_convert('UTC')\n",
    "df_5min['time'] = df_5min['time'].dt.tz_convert('UTC')"
   ]
  },
  {
   "cell_type": "code",
   "execution_count": null,
   "metadata": {},
   "outputs": [],
   "source": [
    "df_dc_voltage = pd.merge_asof(df_5min, df_dc_voltage, on=\"time\", tolerance=pd.Timedelta(\"1 minute\"))\n",
    "df_dc_voltage"
   ]
  },
  {
   "cell_type": "code",
   "execution_count": null,
   "metadata": {},
   "outputs": [],
   "source": [
    "fig = px.line(df_dc_voltage, y=measure_name, title='V(DC) - Avg')\n",
    "fig.show()"
   ]
  },
  {
   "attachments": {},
   "cell_type": "markdown",
   "metadata": {},
   "source": [
    "## 5.3. Current (Inv.DC.I.A)"
   ]
  },
  {
   "cell_type": "code",
   "execution_count": null,
   "metadata": {},
   "outputs": [],
   "source": [
    "# ========================================================\n",
    "# = Reading I(DC) total from AWS TimeStream\n",
    "# = Metric is Inv.DC.I.A \n",
    "# ========================================================\n",
    "\n",
    "measure_name = 'Inv.DC.I.A'\n",
    "timeid, data_values = read_metric(time_start, time_end, measure_name, MID)\n",
    "df_dc_current = build_dataframe(timeid, measure_name, data_values)"
   ]
  },
  {
   "cell_type": "code",
   "execution_count": null,
   "metadata": {},
   "outputs": [],
   "source": [
    "df_dc_current.index = df_dc_current.index.tz_convert('UTC')\n",
    "df_5min['time'] = df_5min['time'].dt.tz_convert('UTC')"
   ]
  },
  {
   "cell_type": "code",
   "execution_count": null,
   "metadata": {},
   "outputs": [],
   "source": [
    "df_dc_current = pd.merge_asof(df_5min, df_dc_current, on=\"time\", tolerance=pd.Timedelta(\"1 minute\"))\n",
    "df_dc_current"
   ]
  },
  {
   "cell_type": "code",
   "execution_count": null,
   "metadata": {},
   "outputs": [],
   "source": [
    "fig = px.line(df_dc_current, y=\"Inv.DC.I.A\", title='I(DC) - Total')\n",
    "fig.show()"
   ]
  },
  {
   "attachments": {},
   "cell_type": "markdown",
   "metadata": {},
   "source": [
    "## 5.4. Power (Inv.DC.P.W)"
   ]
  },
  {
   "cell_type": "code",
   "execution_count": null,
   "metadata": {},
   "outputs": [],
   "source": [
    "# ========================================================\n",
    "# = Reading P(DC) total from AWS TimeStream\n",
    "# = Metric is Inv.DC.P.W\n",
    "# ========================================================\n",
    "\n",
    "measure_name = 'Inv.DC.P.W'\n",
    "timeid, data_values = read_metric(time_start, time_end, measure_name, MID)\n",
    "df_dc_power = build_dataframe(timeid, measure_name, data_values)"
   ]
  },
  {
   "cell_type": "code",
   "execution_count": null,
   "metadata": {},
   "outputs": [],
   "source": [
    "df_dc_power.index = df_dc_power.index.tz_convert('UTC')\n",
    "df_5min['time'] = df_5min['time'].dt.tz_convert('UTC')"
   ]
  },
  {
   "cell_type": "code",
   "execution_count": null,
   "metadata": {},
   "outputs": [],
   "source": [
    "df_dc_power = pd.merge_asof(df_5min, df_dc_power, on=\"time\", tolerance=pd.Timedelta(\"1 minute\"))\n",
    "df_dc_power"
   ]
  },
  {
   "cell_type": "code",
   "execution_count": null,
   "metadata": {},
   "outputs": [],
   "source": [
    "fig = px.line(df_dc_power, y=measure_name, title='P(DC) total')\n",
    "fig.show()"
   ]
  },
  {
   "attachments": {},
   "cell_type": "markdown",
   "metadata": {},
   "source": [
    "## 5.5. Resistance "
   ]
  },
  {
   "cell_type": "code",
   "execution_count": null,
   "metadata": {},
   "outputs": [],
   "source": [
    "# ========================================================\n",
    "# = Reading R(DC) from AWS TimeStream\n",
    "# = Metric is Inv.DC.R.Ohm\n",
    "# ========================================================\n",
    "\n",
    "measure_name = 'Inv.DC.R.Ohm'\n",
    "timeid, data_values = read_metric(time_start, time_end, measure_name, MID)\n",
    "df_dc_resistance = build_dataframe(timeid, measure_name, data_values)"
   ]
  },
  {
   "cell_type": "code",
   "execution_count": null,
   "metadata": {},
   "outputs": [],
   "source": [
    "df_dc_resistance.index = df_dc_resistance.index.tz_convert('UTC')\n",
    "df_5min['time'] = df_5min['time'].dt.tz_convert('UTC')"
   ]
  },
  {
   "cell_type": "code",
   "execution_count": null,
   "metadata": {},
   "outputs": [],
   "source": [
    "df_dc_resistance = pd.merge_asof(df_5min, df_dc_resistance, on=\"time\", tolerance=pd.Timedelta(\"1 minute\"))\n",
    "df_dc_resistance"
   ]
  },
  {
   "cell_type": "code",
   "execution_count": null,
   "metadata": {},
   "outputs": [],
   "source": [
    "fig = px.line(df_dc_resistance, y=measure_name, title='P(DC) total')\n",
    "fig.show()"
   ]
  },
  {
   "attachments": {},
   "cell_type": "markdown",
   "metadata": {},
   "source": [
    "# 6. PV Phase"
   ]
  },
  {
   "attachments": {},
   "cell_type": "markdown",
   "metadata": {},
   "source": [
    "## 6.1. Voltage"
   ]
  },
  {
   "cell_type": "code",
   "execution_count": null,
   "metadata": {},
   "outputs": [],
   "source": [
    "# ========================================================\n",
    "# = Reading Vpv from AWS TimeStream\n",
    "# = Metric is Inv.DC.U.MPPT{X}.V\n",
    "# = Where X is a number between (1 - n)\n",
    "# ========================================================\n",
    "X=1\n",
    "measure_name = 'Inv.DC.U.MPPT{' + str(X) + '}.V'\n",
    "timeid, data_values = read_metric(time_start, time_end, measure_name, MID)\n",
    "df_vPV = build_dataframe(timeid, measure_name, data_values)"
   ]
  },
  {
   "cell_type": "code",
   "execution_count": null,
   "metadata": {},
   "outputs": [],
   "source": [
    "df_vPV.index = df_vPV.index.tz_convert('UTC')\n",
    "df_5min['time'] = df_5min['time'].dt.tz_convert('UTC')"
   ]
  },
  {
   "cell_type": "code",
   "execution_count": null,
   "metadata": {},
   "outputs": [],
   "source": [
    "df_vPV = pd.merge_asof(df_5min, df_vPV, on=\"time\", tolerance=pd.Timedelta(\"1 minute\"))\n",
    "df_vPV"
   ]
  },
  {
   "cell_type": "code",
   "execution_count": null,
   "metadata": {},
   "outputs": [],
   "source": [
    "fig = px.line(df_vPV, y=measure_name, title='Vpv')\n",
    "fig.show()"
   ]
  },
  {
   "attachments": {},
   "cell_type": "markdown",
   "metadata": {},
   "source": [
    "## 6.2. Current\n"
   ]
  },
  {
   "cell_type": "code",
   "execution_count": null,
   "metadata": {},
   "outputs": [],
   "source": [
    "# ========================================================\n",
    "# = Reading Ipv from AWS TimeStream\n",
    "# = Metric is Inv.DC.I.MPPT{X}.A\n",
    "# = Where X is a number between (1 - n)\n",
    "# ========================================================\n",
    "\n",
    "measure_name = 'Inv.DC.I.MPPT{' + str(X) + '}.A'\n",
    "timeid, data_values = read_metric(time_start, time_end, measure_name, MID)\n",
    "df_iPV = build_dataframe(timeid, measure_name, data_values)\n"
   ]
  },
  {
   "cell_type": "code",
   "execution_count": null,
   "metadata": {},
   "outputs": [],
   "source": [
    "df_iPV.index = df_iPV.index.tz_convert('UTC')\n",
    "df_5min['time'] = df_5min['time'].dt.tz_convert('UTC')"
   ]
  },
  {
   "cell_type": "code",
   "execution_count": null,
   "metadata": {},
   "outputs": [],
   "source": [
    "df_iPV = pd.merge_asof(df_5min, df_iPV, on=\"time\", tolerance=pd.Timedelta(\"1 minute\"))\n",
    "df_iPV"
   ]
  },
  {
   "cell_type": "code",
   "execution_count": null,
   "metadata": {},
   "outputs": [],
   "source": [
    "fig = px.line(df_iPV, y=measure_name, title='Ipv')\n",
    "fig.show()"
   ]
  },
  {
   "attachments": {},
   "cell_type": "markdown",
   "metadata": {},
   "source": [
    "## 6.3. Power"
   ]
  },
  {
   "cell_type": "code",
   "execution_count": null,
   "metadata": {},
   "outputs": [],
   "source": [
    "# ========================================================\n",
    "# = Reading Ppv from AWS TimeStream\n",
    "# = Metric is Inv.DC.P.MPPT{X}.W\n",
    "# = Where X is a number between (1 - n)\n",
    "# ========================================================\n",
    "X = 1\n",
    "measure_name = 'Inv.DC.P.MPPT{' + str(X) + '}.W'\n",
    "timeid, data_values = read_metric(time_start, time_end, measure_name, MID)\n",
    "df_pPV = build_dataframe(timeid, measure_name, data_values)"
   ]
  },
  {
   "cell_type": "code",
   "execution_count": null,
   "metadata": {},
   "outputs": [],
   "source": [
    "df_pPV.index = df_pPV.index.tz_convert('UTC')\n",
    "df_5min['time'] = df_5min['time'].dt.tz_convert('UTC')"
   ]
  },
  {
   "cell_type": "code",
   "execution_count": null,
   "metadata": {},
   "outputs": [],
   "source": [
    "df_pPV = pd.merge_asof(df_5min, df_pPV, on=\"time\", tolerance=pd.Timedelta(\"1 minute\"))\n",
    "df_pPV"
   ]
  },
  {
   "cell_type": "code",
   "execution_count": null,
   "metadata": {},
   "outputs": [],
   "source": [
    "fig = px.line(df_pPV, y=measure_name, title='Ppv')\n",
    "fig.show()"
   ]
  },
  {
   "attachments": {},
   "cell_type": "markdown",
   "metadata": {},
   "source": [
    "# Plotting"
   ]
  },
  {
   "attachments": {},
   "cell_type": "markdown",
   "metadata": {},
   "source": [
    "## Merging AC power and Voltage with DC power and voltage"
   ]
  },
  {
   "cell_type": "code",
   "execution_count": null,
   "metadata": {},
   "outputs": [],
   "source": [
    "'''\n",
    "This is a 3-phase system, hence 400V instead of 230V\n",
    "'''\n",
    "# Defining voltage limit:\n",
    "# Voltage + 10%\n",
    "v_limit_ac = (400*1.1)\n",
    "v_limit_ac = 230*math.sqrt(3)*1.1"
   ]
  },
  {
   "cell_type": "code",
   "execution_count": null,
   "metadata": {},
   "outputs": [],
   "source": [
    "df_ac_power_voltage = pd.merge(df_genW, df_ac_voltage_avg, on='time', how='outer')\n",
    "df_ac_power_voltage['v_limit_ac'] = v_limit_ac\n",
    "df_ac_power_voltage\n",
    "#Might as well merge the datasets:\n",
    "df_dc_power_voltage = pd.merge(df_dc_power, df_dc_voltage, on='time', how='outer')\n",
    "df_dc_power_voltage\n",
    "# Getting it all\n",
    "df_all = pd.merge(df_ac_power_voltage, df_dc_power_voltage, on='time', how='outer')"
   ]
  },
  {
   "cell_type": "code",
   "execution_count": null,
   "metadata": {},
   "outputs": [],
   "source": [
    "# Initialise the subplot function using (rows, columns)\n",
    "figure, axis = plt.subplots(4, 1)\n",
    "figure.set_size_inches(24, 10, forward=True)\n",
    "\n",
    "# Setting up X-Axis\n",
    "x = df_all.index\n",
    "\n",
    "# Fig 1 - DC Voltage\n",
    "axis[0].plot(x, df_all['Inv.DC.U.V'])\n",
    "axis[0].set_title(\"DC Voltage\")\n",
    "\n",
    "\n",
    "# Fig 2 - DC Power\n",
    "axis[1].plot(x, df_all['Inv.DC.P.W'])\n",
    "axis[1].set_title(\"DC Power\")\n",
    "\n",
    "# Fig 3 - AC Voltage + limit\n",
    "axis[2].plot(x, df_all['Inv.AC.U.V'])\n",
    "axis[2].plot(x, df_all['v_limit_ac'])\n",
    "axis[2].set_title(\"AC Voltage\")\n",
    "\n",
    "# Fig 4 - AC Power\n",
    "axis[3].plot(x, df_all['Gen.W'])\n",
    "axis[3].set_title(\"AC Power\")\n",
    "\n",
    "# Combine all the operations and display\n",
    "plt.savefig('./plots/curtailment/Curtailment_Check_MID' + str(MID) + '_' + str(time_start) + '_to_' + str(time_end))\n",
    "plt.show()"
   ]
  }
 ],
 "metadata": {
  "kernelspec": {
   "display_name": "Python 3",
   "language": "python",
   "name": "python3"
  },
  "language_info": {
   "codemirror_mode": {
    "name": "ipython",
    "version": 3
   },
   "file_extension": ".py",
   "mimetype": "text/x-python",
   "name": "python",
   "nbconvert_exporter": "python",
   "pygments_lexer": "ipython3",
   "version": "3.10.4"
  },
  "orig_nbformat": 4
 },
 "nbformat": 4,
 "nbformat_minor": 2
}
